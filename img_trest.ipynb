{
 "cells": [
  {
   "cell_type": "code",
   "execution_count": 1871,
   "metadata": {},
   "outputs": [
    {
     "data": {
      "text/plain": [
       "405.0"
      ]
     },
     "execution_count": 1871,
     "metadata": {},
     "output_type": "execute_result"
    }
   ],
   "source": [
    "(288 * 288 * 5) / 1024"
   ]
  },
  {
   "cell_type": "code",
   "execution_count": 2,
   "metadata": {},
   "outputs": [
    {
     "name": "stdout",
     "output_type": "stream",
     "text": [
      "img ['1'] 1\n",
      "img\\1 ['1', '1aa', '1ab', '1b', '1c', '1d', '1e', '1f', '1h', '1i', '1j', '1k', '1l', '1n', '1o', '1p', '1q', '1r'] 18\n",
      "img\\1\\1 [] 0\n",
      "img\\1\\1aa [] 0\n",
      "img\\1\\1ab [] 0\n",
      "img\\1\\1b [] 0\n",
      "img\\1\\1c [] 0\n",
      "img\\1\\1d [] 0\n",
      "img\\1\\1e [] 0\n",
      "img\\1\\1f [] 0\n",
      "img\\1\\1h [] 0\n",
      "img\\1\\1i [] 0\n",
      "img\\1\\1j [] 0\n",
      "img\\1\\1k [] 0\n",
      "img\\1\\1l [] 0\n",
      "img\\1\\1n [] 0\n",
      "img\\1\\1o [] 0\n",
      "img\\1\\1p [] 0\n",
      "img\\1\\1q [] 0\n",
      "img\\1\\1r [] 0\n"
     ]
    }
   ],
   "source": [
    "import os\n",
    "for path, dirs, __ in os.walk(\"img\"):\n",
    "    print(path, dirs, len(dirs))"
   ]
  },
  {
   "cell_type": "code",
   "execution_count": 1872,
   "metadata": {},
   "outputs": [],
   "source": [
    "from PIL import Image\n",
    "import numpy as np"
   ]
  },
  {
   "cell_type": "code",
   "execution_count": 1873,
   "metadata": {},
   "outputs": [
    {
     "name": "stdout",
     "output_type": "stream",
     "text": [
      "17\n",
      "[(189, 49, 24), (156, 123, 41), (131, 115, 115), (92, 183, 232), (77, 67, 67), (65, 57, 57), (41, 39, 39), (20, 135, 197), (12, 65, 94), (232, 140, 123), (222, 180, 49), (172, 164, 156), (133, 30, 12), (98, 90, 98), (82, 74, 74), (32, 32, 41), (16, 16, 16)]\n",
      "[189, 144, 3744, 414, 2106, 2160, 3501, 513, 441, 36, 2160, 3816, 117, 3060, 1098, 180, 2034]\n"
     ]
    }
   ],
   "source": [
    "with Image.open(\"313.205.png\") as im:\n",
    "    # print(np.array(im.convert('RGBA')).shape)\n",
    "    # print(im.getcolors())\n",
    "    # print(im.size)\n",
    "    # print(im.getpalette())\n",
    "    # print(im.convert('L').getpalette())\n",
    "    # print(im.getcolors())\n",
    "    # palette = im.getpalette()\n",
    "    # if palette is None:\n",
    "    #     print(\"No palette\")\n",
    "    #     imcolors = im.getcolors()\n",
    "    #     palette = [c[1][:3] for c in imcolors if c[1][3] == 255]\n",
    "    #     counts = [c[0] for c in imcolors if c[1][3] == 255]\n",
    "    #     lp = len(palette)\n",
    "    # else:\n",
    "    #     counts = [c[0] for c in im.getcolors()]\n",
    "    #     lp = len(palette) // 3\n",
    "    im = im.convert('RGBA')\n",
    "    imcolors = im.getcolors()\n",
    "    palette = [c[1][:3] for c in imcolors if c[1][3] > 200]\n",
    "    counts = [c[0] for c in imcolors if c[1][3] > 200]\n",
    "    lp = len(palette)\n",
    "print(lp)\n",
    "print(palette)\n",
    "print(counts)"
   ]
  },
  {
   "cell_type": "code",
   "execution_count": 1874,
   "metadata": {},
   "outputs": [],
   "source": [
    "all_colors = np.array(palette).reshape([lp, 3])"
   ]
  },
  {
   "cell_type": "code",
   "execution_count": 1875,
   "metadata": {},
   "outputs": [],
   "source": [
    "base_colors = all_colors.astype(float)\n",
    "# rad = np.linalg.norm(base_colors, axis = 1)\n",
    "# rad[rad == 0] = 1\n",
    "# colors = base_colors / rad[:, np.newaxis]\n",
    "# colors"
   ]
  },
  {
   "cell_type": "markdown",
   "metadata": {},
   "source": [
    "# Don't Need"
   ]
  },
  {
   "cell_type": "code",
   "execution_count": 1876,
   "metadata": {},
   "outputs": [],
   "source": [
    "# from sklearn import cluster"
   ]
  },
  {
   "cell_type": "code",
   "execution_count": 1877,
   "metadata": {},
   "outputs": [],
   "source": [
    "# c = cluster.AgglomerativeClustering(\n",
    "#     n_clusters = None,\n",
    "#     distance_threshold = 0.015,\n",
    "#     metric = 'cosine',\n",
    "#     linkage = 'single'\n",
    "# )"
   ]
  },
  {
   "cell_type": "code",
   "execution_count": 1878,
   "metadata": {},
   "outputs": [],
   "source": [
    "# c.fit_predict(colors)"
   ]
  },
  {
   "cell_type": "code",
   "execution_count": 1879,
   "metadata": {},
   "outputs": [],
   "source": [
    "# pred = c.fit_predict(colors)\n",
    "# l = [list() for _ in range(np.max(pred) + 1)]\n",
    "# for i, p in enumerate(pred):\n",
    "#     l[p].append(base_colors[i])\n",
    "# l"
   ]
  },
  {
   "cell_type": "markdown",
   "metadata": {},
   "source": [
    "# The Good Stuff"
   ]
  },
  {
   "cell_type": "code",
   "execution_count": 1880,
   "metadata": {},
   "outputs": [
    {
     "data": {
      "text/plain": [
       "array([0.64705882, 0.45098039, 0.0627451 , 0.54901961, 0.03921569,\n",
       "       0.03137255, 0.00784314, 0.69411765, 0.32156863, 0.42745098,\n",
       "       0.67843137, 0.0627451 , 0.4745098 , 0.03137255, 0.03137255,\n",
       "       0.03529412, 0.        ])"
      ]
     },
     "execution_count": 1880,
     "metadata": {},
     "output_type": "execute_result"
    }
   ],
   "source": [
    "h_base_colors = base_colors / 255\n",
    "Cmax = np.max(h_base_colors, axis = 1)\n",
    "Cmin = np.min(h_base_colors, axis = 1)\n",
    "Cargmax = np.argmax(h_base_colors, axis = 1)\n",
    "d = Cmax - Cmin\n",
    "d"
   ]
  },
  {
   "cell_type": "code",
   "execution_count": 1881,
   "metadata": {},
   "outputs": [
    {
     "data": {
      "text/plain": [
       "array([ 0.15151515,  0.71304348,  0.        ,  3.35      ,  0.        ,\n",
       "        0.        ,  0.        ,  3.35028249,  3.35365854,  0.1559633 ,\n",
       "        0.75722543,  0.5       ,  0.14876033, -1.        ,  0.        ,\n",
       "        4.        ,  0.        ])"
      ]
     },
     "execution_count": 1881,
     "metadata": {},
     "output_type": "execute_result"
    }
   ],
   "source": [
    "hues = np.zeros_like(d)\n",
    "is_R = (d > 0) * (Cargmax == 0)\n",
    "is_G = (d > 0) * (Cargmax == 1)\n",
    "is_B = (d > 0) * (Cargmax == 2)\n",
    "hues[is_R] = np.fmod((h_base_colors[is_R, 1] - h_base_colors[is_R, 2]) / d[is_R], 6)\n",
    "hues[is_G] = ((h_base_colors[is_G, 2] - h_base_colors[is_G, 0]) / d[is_G] + 2)\n",
    "hues[is_B] = ((h_base_colors[is_B, 0] - h_base_colors[is_B, 1]) / d[is_B] + 4)\n",
    "hues"
   ]
  },
  {
   "cell_type": "code",
   "execution_count": 1882,
   "metadata": {},
   "outputs": [
    {
     "data": {
      "text/plain": [
       "array([0.87301587, 0.73717949, 0.1221374 , 0.60344828, 0.12987013,\n",
       "       0.12307692, 0.04878049, 0.89847716, 0.87234043, 0.46982759,\n",
       "       0.77927928, 0.09302326, 0.90977444, 0.08163265, 0.09756098,\n",
       "       0.2195122 , 0.        ])"
      ]
     },
     "execution_count": 1882,
     "metadata": {},
     "output_type": "execute_result"
    }
   ],
   "source": [
    "sat = np.zeros_like(hues)\n",
    "sat[Cmax > 0] = (d[Cmax > 0] / Cmax[Cmax > 0])\n",
    "sat"
   ]
  },
  {
   "cell_type": "code",
   "execution_count": 1883,
   "metadata": {},
   "outputs": [],
   "source": [
    "import matplotlib.pyplot as plt"
   ]
  },
  {
   "cell_type": "code",
   "execution_count": 1884,
   "metadata": {},
   "outputs": [],
   "source": [
    "# len(counts), x.shape"
   ]
  },
  {
   "cell_type": "code",
   "execution_count": 1885,
   "metadata": {},
   "outputs": [
    {
     "data": {
      "text/plain": [
       "<matplotlib.collections.PathCollection at 0x209ba2ab950>"
      ]
     },
     "execution_count": 1885,
     "metadata": {},
     "output_type": "execute_result"
    },
    {
     "data": {
      "image/png": "[encoded data removed]",
      "text/plain": [
       "<Figure size 640x480 with 1 Axes>"
      ]
     },
     "metadata": {},
     "output_type": "display_data"
    }
   ],
   "source": [
    "angle = hues * 3.14159 / 3\n",
    "x = np.cos(angle) * (Cmax + 1 - sat / 4)\n",
    "y = np.sin(angle) * (Cmax + 1 - sat / 4)\n",
    "x[d == 0] = 0\n",
    "plt.scatter(x, y, np.sqrt(counts) + 18, c = h_base_colors)"
   ]
  },
  {
   "cell_type": "code",
   "execution_count": 1886,
   "metadata": {},
   "outputs": [],
   "source": [
    "from sklearn import cluster"
   ]
  },
  {
   "cell_type": "code",
   "execution_count": 1887,
   "metadata": {},
   "outputs": [],
   "source": [
    "c = cluster.AgglomerativeClustering(\n",
    "    n_clusters = None,\n",
    "    distance_threshold = 0.7,\n",
    "    linkage = 'average'\n",
    ")"
   ]
  },
  {
   "cell_type": "code",
   "execution_count": 1888,
   "metadata": {},
   "outputs": [],
   "source": [
    "groups = c.fit_predict(np.concatenate([x[:,np.newaxis], y[:,np.newaxis]], axis = 1))"
   ]
  },
  {
   "cell_type": "code",
   "execution_count": 1889,
   "metadata": {},
   "outputs": [
    {
     "data": {
      "text/plain": [
       "<matplotlib.collections.PathCollection at 0x209ba30e490>"
      ]
     },
     "execution_count": 1889,
     "metadata": {},
     "output_type": "execute_result"
    },
    {
     "data": {
      "image/png": "[encoded data removed]",
      "text/plain": [
       "<Figure size 640x480 with 1 Axes>"
      ]
     },
     "metadata": {},
     "output_type": "display_data"
    }
   ],
   "source": [
    "plt.scatter(x, y, np.sqrt(counts) + 18, c = groups, cmap = 'rainbow')"
   ]
  },
  {
   "cell_type": "markdown",
   "metadata": {},
   "source": [
    "## 64 colors:\n",
    "\n",
    "0: Transparent\n",
    "\n",
    "1-10: Shades of black\n",
    "\n",
    "11-26: Color 1\n",
    "\n",
    "27-35: Color 2\n",
    "\n",
    "36-42: Color 3\n",
    "\n",
    "43-48: Color 4\n",
    "\n",
    "49-54: Color 5\n",
    "\n",
    "55-57: Color 6\n",
    "\n",
    "58-60: Color 7\n",
    "\n",
    "61: Color 8\n",
    "\n",
    "62: Color 9\n",
    "\n",
    "63: Color 10"
   ]
  },
  {
   "cell_type": "code",
   "execution_count": 1890,
   "metadata": {},
   "outputs": [],
   "source": [
    "def make_overlay_colors(_hue, _sat, n_shades):\n",
    "    for l in range(n_shades):\n",
    "        _light = 0.1 + 0.8 * l / n_shades\n",
    "        if n_shades == 1:\n",
    "            _light = 0.5\n",
    "        _c = (1 - abs(2 * _light - 1)) * _sat\n",
    "        _x = _c * (1 - abs((_hue / 60) % 2 - 1))\n",
    "        _m = _light - _c / 2\n",
    "        _C = int((_c + _m) * 255)\n",
    "        _X = int((_x + _m) * 255)\n",
    "        _m = int(_m * 255)\n",
    "        if _hue < 60:\n",
    "            yield _C, _X, _m, 255\n",
    "        elif _hue < 120:\n",
    "            yield _X, _C, _m, 255\n",
    "        elif _hue < 180:\n",
    "            yield _m, _C, _X, 255\n",
    "        elif _hue < 240:\n",
    "            yield _m, _X, _C, 255\n",
    "        elif _hue < 300:\n",
    "            yield _X, _m, _C, 255\n",
    "        else:\n",
    "            yield _C, _m, _X, 255"
   ]
  },
  {
   "cell_type": "code",
   "execution_count": 1891,
   "metadata": {},
   "outputs": [],
   "source": [
    "overlay_keys = [\n",
    "    (0  , 0.00, 10),\n",
    "    (45 , 0.5, 16),\n",
    "    (180, 0.6, 9),\n",
    "    (315, 0.7, 7),\n",
    "    (90 , 0.8, 6),\n",
    "    (225, 0.8, 6),\n",
    "    (135, 0.9, 3),\n",
    "    (270, 0.9, 3),\n",
    "    (90 , 1.0, 3)\n",
    "]"
   ]
  },
  {
   "cell_type": "code",
   "execution_count": 1892,
   "metadata": {},
   "outputs": [
    {
     "data": {
      "text/plain": [
       "array([0, 5, 0, 2, 0, 0, 0, 2, 2, 0, 5, 5, 0, 3, 0, 4, 1], dtype=int64)"
      ]
     },
     "execution_count": 1892,
     "metadata": {},
     "output_type": "execute_result"
    }
   ],
   "source": [
    "groups"
   ]
  },
  {
   "cell_type": "code",
   "execution_count": 1893,
   "metadata": {},
   "outputs": [
    {
     "data": {
      "text/plain": [
       "[[array([16, 16, 16]), array([16, 16, 16]), array([16, 16, 16])],\n",
       " [array([ 92, 183, 232]), array([ 20, 135, 197]), array([12, 65, 94])],\n",
       " [array([156, 123,  41]), array([222, 180,  49]), array([172, 164, 156])],\n",
       " [array([189,  49,  24]),\n",
       "  array([131, 115, 115]),\n",
       "  array([77, 67, 67]),\n",
       "  array([65, 57, 57]),\n",
       "  array([41, 39, 39]),\n",
       "  array([232, 140, 123]),\n",
       "  array([133,  30,  12]),\n",
       "  array([82, 74, 74])]]"
      ]
     },
     "execution_count": 1893,
     "metadata": {},
     "output_type": "execute_result"
    }
   ],
   "source": [
    "rev_groups = [[] for _ in range(max(groups) + 1)]\n",
    "for g, col in zip(groups, base_colors):\n",
    "    rev_groups[g].append(col.astype(int))\n",
    "rev_groups.sort(key = len)\n",
    "singles = []\n",
    "for i, group in enumerate(rev_groups):\n",
    "    if len(group) > 1:\n",
    "        break\n",
    "    singles.extend(rev_groups[0])\n",
    "rev_groups = [singles] + rev_groups[i:]\n",
    "rev_groups.sort(key = len)\n",
    "rev_groups"
   ]
  },
  {
   "cell_type": "code",
   "execution_count": 1894,
   "metadata": {},
   "outputs": [],
   "source": [
    "def replace_color(old_data, new_data, old_color, new_color):\n",
    "    dcol = np.abs(old_data[:,:,:3] - old_color)\n",
    "    valid = (dcol.sum(axis = 2) < 3) * (old_data[:,:,3] > 200)\n",
    "    new_data[valid] = new_color"
   ]
  },
  {
   "cell_type": "code",
   "execution_count": 1895,
   "metadata": {},
   "outputs": [
    {
     "name": "stdout",
     "output_type": "stream",
     "text": [
      "[array([16, 16, 16]), array([16, 16, 16]), array([16, 16, 16])]\n",
      "[array([12, 65, 94]), array([ 20, 135, 197]), array([ 92, 183, 232])]\n",
      "[array([156, 123,  41]), array([222, 180,  49]), array([172, 164, 156])]\n",
      "[array([41, 39, 39]), array([133,  30,  12]), array([65, 57, 57]), array([77, 67, 67]), array([82, 74, 74]), array([189,  49,  24]), array([131, 115, 115]), array([232, 140, 123])]\n"
     ]
    }
   ],
   "source": [
    "data = np.array(im)\n",
    "data2 = np.array(im)\n",
    "for group in rev_groups:\n",
    "    group = sorted(group, key = np.sum)\n",
    "    print(group)\n",
    "    if any(col.max() == col.min() for col in group):\n",
    "        for n, o in zip(make_overlay_colors(*overlay_keys[0]), group):\n",
    "            replace_color(data, data2, np.array(o), n)\n",
    "        continue\n",
    "    while overlay_keys[-1][2] < len(group):\n",
    "        del overlay_keys[-1]\n",
    "        if len(overlay_keys) == 1:\n",
    "            raise IndexError\n",
    "    for n, o in zip(make_overlay_colors(*overlay_keys[-1]), group):\n",
    "        replace_color(data, data2, np.array(o), n)\n",
    "    del overlay_keys[-1]"
   ]
  },
  {
   "cell_type": "code",
   "execution_count": 1896,
   "metadata": {},
   "outputs": [],
   "source": [
    "im2 = Image.fromarray(data2)\n",
    "im2.show()"
   ]
  },
  {
   "cell_type": "markdown",
   "metadata": {},
   "source": [
    "Modest Docile\n",
    "Modest Bashful\n",
    "Modest Mild\n",
    "Jolly Naive\n",
    "Serious Adamant\n",
    "Serious Hardy\n",
    "Serious Bold\n",
    "Calm Lax\n",
    "Calm Relaxed\n",
    "Calm Careful\n",
    "Timid Bashful\n",
    "Timid Lonely\n",
    "Gentle Careful\n",
    "Adamant Rash\n",
    "Lax Relaxed\n",
    "Lax Hasty\n",
    "Lax Quirky\n",
    "Timid Quiet\n",
    "Bashful Careful\n",
    "Brave Adamant\n",
    "Brave Bold\n",
    "Brave Naive\n",
    "Hasty Rash\n",
    "Hasty Timid\n",
    "Quiet Mild\n",
    "Quiet Careful\n",
    "Quiet Lonely\n",
    "Lonely Quirky\n",
    "Mild Hardy\n",
    "Mild Docile\n",
    "Impish Jolly\n",
    "Impish Naughty\n",
    "Impish Quirky\n",
    "Naughty Naive\n",
    "Naive Docile\n",
    "Hardy Bold\n",
    "Relaxed Gentle\n",
    "Bold Impish\n",
    "Jolly Gentle\n",
    "Rash Naughty\n",
    "Sassy Naughty\n",
    "Sassy Adamant\n",
    "Sassy Relaxed"
   ]
  }
 ],
 "metadata": {
  "kernelspec": {
   "display_name": "Python 3",
   "language": "python",
   "name": "python3"
  },
  "language_info": {
   "codemirror_mode": {
    "name": "ipython",
    "version": 3
   },
   "file_extension": ".py",
   "mimetype": "text/x-python",
   "name": "python",
   "nbconvert_exporter": "python",
   "pygments_lexer": "ipython3",
   "version": "3.11.0"
  }
 },
 "nbformat": 4,
 "nbformat_minor": 2
}
